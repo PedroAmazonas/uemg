{
 "cells": [
  {
   "cell_type": "code",
   "execution_count": null,
   "metadata": {},
   "outputs": [
    {
     "data": {
      "application/vnd.jupyter.widget-view+json": {
       "model_id": "6a517564b1bc4791a61ceb58dd8aa2a6",
       "version_major": 2,
       "version_minor": 0
      },
      "text/plain": [
       "interactive(children=(FloatSlider(value=30.0, description='Temp. Inicial CPU (°C)', min=20.0, step=1.0), Float…"
      ]
     },
     "metadata": {},
     "output_type": "display_data"
    }
   ],
   "source": [
    "import numpy as np\n",
    "import matplotlib.pyplot as plt\n",
    "from ipywidgets import interact, FloatSlider\n",
    "\n",
    "# Função que calcula a temperatura da CPU com resfriamento apenas por água\n",
    "def simular_resfriamento_watercooler(T_cpu, taxa_resfriamento, T_amb, uso_cpu, passo_tempo):\n",
    "    geracao_calor = uso_cpu * 0.01  # 0.01 é um fator de escala (quanto maior, mais calor gerado)\n",
    "    variacao_temperatura = -taxa_resfriamento * (T_cpu - T_amb) + geracao_calor\n",
    "    nova_T_cpu = T_cpu + variacao_temperatura * passo_tempo\n",
    "    energia_gasta = geracao_calor * passo_tempo  # Energia gerada pela CPU\n",
    "    return nova_T_cpu, energia_gasta\n",
    "\n",
    "# Função que calcula a temperatura da CPU com o efeito do Peltier\n",
    "def simular_resfriamento_com_peltier(T_cpu, taxa_resfriamento, T_amb, efeito_peltier, uso_cpu, passo_tempo):\n",
    "    geracao_calor = uso_cpu * 0.01\n",
    "    variacao_temperatura = -taxa_resfriamento * (T_cpu - T_amb) - efeito_peltier + geracao_calor\n",
    "    nova_T_cpu = T_cpu + variacao_temperatura * passo_tempo\n",
    "    energia_gasta = (geracao_calor + efeito_peltier) * passo_tempo  # Considera calor gerado e efeito Peltier\n",
    "    return nova_T_cpu, energia_gasta\n",
    "\n",
    "# Função para simular e plotar a temperatura da CPU e calcular consumo energético\n",
    "def plotar_simulacao(T_cpu_inicial, taxa_resfriamento, efeito_peltier, T_amb, uso_cpu_percentual):\n",
    "    T_cpu_watercooler = T_cpu_inicial  # Temperatura inicial com resfriamento apenas por água\n",
    "    T_cpu_peltier = T_cpu_inicial  # Temperatura inicial com resfriamento por água + Peltier\n",
    "    passo_tempo = 1  # Passo de tempo (segundos)\n",
    "    tempo_simulacao = 600  # Tempo total de simulação (segundos)\n",
    "    tempo = np.arange(0, tempo_simulacao, passo_tempo)\n",
    "\n",
    "    temperaturas_watercooler = []\n",
    "    temperaturas_peltier = []\n",
    "    energia_total_watercooler = 0  # Energia acumulada para resfriamento apenas por água\n",
    "    energia_total_peltier = 0  # Energia acumulada para resfriamento com Peltier\n",
    "\n",
    "    # Simulação das duas abordagens\n",
    "    for t in tempo:\n",
    "        # Resfriamento apenas com água\n",
    "        temperaturas_watercooler.append(T_cpu_watercooler)\n",
    "        T_cpu_watercooler, energia_gasta_watercooler = simular_resfriamento_watercooler(\n",
    "            T_cpu_watercooler, taxa_resfriamento, T_amb, uso_cpu_percentual, passo_tempo\n",
    "        )\n",
    "        energia_total_watercooler += energia_gasta_watercooler\n",
    "\n",
    "        # Resfriamento com água + Peltier\n",
    "        temperaturas_peltier.append(T_cpu_peltier)\n",
    "        T_cpu_peltier, energia_gasta_peltier = simular_resfriamento_com_peltier(\n",
    "            T_cpu_peltier, taxa_resfriamento, T_amb, efeito_peltier, uso_cpu_percentual, passo_tempo\n",
    "        )\n",
    "        energia_total_peltier += energia_gasta_peltier\n",
    "\n",
    "    # Gráfico de resfriamento com água\n",
    "    plt.figure(figsize=(10, 6))\n",
    "    plt.plot(tempo, temperaturas_watercooler, label=\"Resfriamento Water Cooler\", color=\"blue\")\n",
    "    plt.xlabel(\"Tempo (segundos)\")\n",
    "    plt.ylabel(\"Temperatura da CPU (°C)\")\n",
    "    plt.title(f\"Simulação de Resfriamento de CPU com Water Cooler\\n Temp. Inicial CPU (°C) {T_cpu_inicial:.2f} ,Temp. Ambiente (°C) {T_amb:.2f} ,Taxa de Resfriamento {taxa_resfriamento:.3f} ,Uso CPU (%) {uso_cpu_percentual}\")\n",
    "    plt.legend()\n",
    "    plt.grid(True)\n",
    "    plt.show()\n",
    "    print(f\"Energia total gasta (Resfriamento Water Cooler): {energia_total_watercooler:.2f} J\")\n",
    "    # Gráfico de resfriamento com água + Peltier\n",
    "    plt.figure(figsize=(10, 6))\n",
    "    plt.plot(tempo, temperaturas_peltier, label=\"Resfriamento Water Cooler + Peltier\", color=\"red\")\n",
    "    plt.xlabel(\"Tempo (segundos)\")\n",
    "    plt.ylabel(\"Temperatura da CPU (°C)\")\n",
    "    plt.title(f\"Simulação de Resfriamento de CPU com Water Cooler + Peltier\\n Temp. Inicial CPU (°C) {T_cpu_inicial:.2f} ,Temp. Ambiente (°C) {T_amb:.2f} ,Efeito Peltier {efeito_peltier:.2f} ,Uso CPU (%) {uso_cpu_percentual} \")\n",
    "    plt.legend()\n",
    "    plt.grid(True)\n",
    "    plt.show()\n",
    "\n",
    "    # Exibindo os valores totais de energia consumida\n",
    "    \n",
    "    print(f\"Energia total gasta (Resfriamento Water Cooler + Peltier): {energia_total_peltier:.2f} J\")\n",
    "\n",
    "# Widgets interativos\n",
    "interact(plotar_simulacao,\n",
    "         T_cpu_inicial=FloatSlider(value=30, min=20, max=100, step=1, description=\"Temp. Inicial CPU (°C)\"),\n",
    "         taxa_resfriamento=FloatSlider(value=0.044, min=0.001, max=0.1, step=0.001, description=\"Taxa de Resfriamento\"),\n",
    "         efeito_peltier=FloatSlider(value=0.2, min=0, max=0.5, step=0.01, description=\"Efeito Peltier\"),\n",
    "         T_amb=FloatSlider(value=30, min=0, max=50, step=1, description=\"Temp. Ambiente (°C)\"),\n",
    "         uso_cpu_percentual=FloatSlider(value=50, min=0, max=100, step=1, description=\"Uso CPU (%)\"));\n"
   ]
  }
 ],
 "metadata": {
  "kernelspec": {
   "display_name": "Python 3",
   "language": "python",
   "name": "python3"
  },
  "language_info": {
   "codemirror_mode": {
    "name": "ipython",
    "version": 3
   },
   "file_extension": ".py",
   "mimetype": "text/x-python",
   "name": "python",
   "nbconvert_exporter": "python",
   "pygments_lexer": "ipython3",
   "version": "3.12.5"
  }
 },
 "nbformat": 4,
 "nbformat_minor": 2
}
